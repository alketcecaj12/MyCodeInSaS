{
 "cells": [
  {
   "cell_type": "markdown",
   "id": "49ebd828-4ffc-4b9b-9c42-14b50cbdd545",
   "metadata": {},
   "source": [
    "## Introduction to SAS\n",
    "SAS (Statistical Analysis System) is a powerful software suite for data management, advanced analytics, and business intelligence. It's widely used in various industries for data analysis and reporting.\n",
    "\n",
    "### SAS Environment\n",
    "SAS consists of two main components: the DATA step and the PROC step\n",
    "The DATA step is used for data manipulation and creation\n",
    "The PROC step is used for analysis and reporting"
   ]
  },
  {
   "cell_type": "code",
   "execution_count": null,
   "id": "700687fe-3b75-47d2-9179-9b0ada246a2b",
   "metadata": {},
   "outputs": [],
   "source": []
  },
  {
   "cell_type": "code",
   "execution_count": 9,
   "id": "6cc36f97-3252-4253-b361-7f4f93702f36",
   "metadata": {},
   "outputs": [
    {
     "ename": "SyntaxError",
     "evalue": "invalid syntax (666069572.py, line 1)",
     "output_type": "error",
     "traceback": [
      "\u001b[0;36m  Cell \u001b[0;32mIn[9], line 1\u001b[0;36m\u001b[0m\n\u001b[0;31m    DATA dataset_name;\u001b[0m\n\u001b[0m         ^\u001b[0m\n\u001b[0;31mSyntaxError\u001b[0m\u001b[0;31m:\u001b[0m invalid syntax\n"
     ]
    }
   ],
   "source": [
    "PROC IMPORT DATAFILE=\"path/to/file.csv\"\n",
    "  OUT=work.dataset_name\n",
    "  DBMS=CSV\n",
    "  REPLACE;\n",
    "RUN;\n",
    "\n",
    "\n"
   ]
  },
  {
   "cell_type": "code",
   "execution_count": null,
   "id": "768d85f3-f02a-48e1-99dc-624967bcefa9",
   "metadata": {},
   "outputs": [],
   "source": []
  },
  {
   "cell_type": "code",
   "execution_count": null,
   "id": "fc7cb7e6-0caf-4c51-9759-e2deefc949b9",
   "metadata": {},
   "outputs": [],
   "source": []
  },
  {
   "cell_type": "code",
   "execution_count": null,
   "id": "a0a35b9a-d969-4d79-a52d-98aedabeb61a",
   "metadata": {},
   "outputs": [],
   "source": []
  },
  {
   "cell_type": "code",
   "execution_count": null,
   "id": "720172be-70af-4af1-8ee3-76dafa7014fb",
   "metadata": {},
   "outputs": [],
   "source": []
  },
  {
   "cell_type": "code",
   "execution_count": null,
   "id": "ff9c7cb9-b26d-4cbb-81b2-9738366eea3a",
   "metadata": {},
   "outputs": [],
   "source": []
  },
  {
   "cell_type": "code",
   "execution_count": null,
   "id": "b1ae3c04-ae21-40af-913c-c8a3b8fbb99d",
   "metadata": {},
   "outputs": [],
   "source": []
  },
  {
   "cell_type": "code",
   "execution_count": null,
   "id": "06414533-48c1-4740-8099-b18fa3fd4e7e",
   "metadata": {},
   "outputs": [],
   "source": []
  },
  {
   "cell_type": "code",
   "execution_count": null,
   "id": "d8595c30-bf35-43db-9475-e782319d81c8",
   "metadata": {},
   "outputs": [],
   "source": []
  },
  {
   "cell_type": "code",
   "execution_count": null,
   "id": "1650ebfe-1039-47ae-912d-d94c4b8c49ad",
   "metadata": {},
   "outputs": [],
   "source": []
  },
  {
   "cell_type": "code",
   "execution_count": null,
   "id": "66c1c0f1-5ac4-4492-9f8a-e06b6342de97",
   "metadata": {},
   "outputs": [],
   "source": []
  }
 ],
 "metadata": {
  "kernelspec": {
   "display_name": "Python 3 (ipykernel)",
   "language": "python",
   "name": "python3"
  },
  "language_info": {
   "codemirror_mode": {
    "name": "ipython",
    "version": 3
   },
   "file_extension": ".py",
   "mimetype": "text/x-python",
   "name": "python",
   "nbconvert_exporter": "python",
   "pygments_lexer": "ipython3",
   "version": "3.10.13"
  }
 },
 "nbformat": 4,
 "nbformat_minor": 5
}
